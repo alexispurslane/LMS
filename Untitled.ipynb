{
 "cells": [
  {
   "cell_type": "code",
   "execution_count": 36,
   "metadata": {
    "collapsed": false
   },
   "outputs": [],
   "source": [
    "import random, copy\n",
    "id = 0\n",
    "class BSPTree:\n",
    "    def __init__(self, width, height, x, y, min_split_s=8, children=[None, None]):\n",
    "        global id\n",
    "        self.width = width\n",
    "        self.height = height\n",
    "        self.x = x\n",
    "        self.id = id + 1\n",
    "        id += 1\n",
    "        self.y = y\n",
    "        self.min_split_s = min_split_s\n",
    "        self.children = copy.copy(children)\n",
    "\n",
    "    def partition_vertical(self, x):\n",
    "        self.children[0] = BSPTree(x, self.height, self.x, self.y)\n",
    "        self.children[1] = BSPTree(self.width - x, self.height, self.x + x, self.y)\n",
    "        print(self.children[0].children)\n",
    "\n",
    "    def partition_horizontal(self, y):\n",
    "        self.children[0] = BSPTree(self.width, y, self.x, self.y)\n",
    "        self.children[1] = BSPTree(self.width, self.height - y, self.x, self.y + y)\n",
    "    def random_partition(self):\n",
    "        if random.randint(0, 1) == 0:\n",
    "            self.partition_horizontal(random.randint(self.min_split_s, self.height - self.min_split_s))\n",
    "        else:\n",
    "            self.partition_vertical(random.randint(self.min_split_s, self.width - self.min_split_s))\n",
    "\n",
    "    def traverse(self, callback):\n",
    "        print(self.id, len(self.children))\n",
    "        callback(self)\n",
    "        if self.children[0] != None and self.children[1] != None:\n",
    "            self.children[0].traverse(callback)\n",
    "            self.children[1].traverse(callback)\n",
    "\n"
   ]
  },
  {
   "cell_type": "code",
   "execution_count": 37,
   "metadata": {
    "collapsed": false
   },
   "outputs": [
    {
     "name": "stdout",
     "output_type": "stream",
     "text": [
      "[None, None]\n"
     ]
    }
   ],
   "source": [
    "base = BSPTree(80, 80, 0, 0)\n",
    "base.random_partition()"
   ]
  },
  {
   "cell_type": "code",
   "execution_count": 42,
   "metadata": {
    "collapsed": false
   },
   "outputs": [
    {
     "name": "stdout",
     "output_type": "stream",
     "text": [
      "1 2\n",
      "80 80 0 0\n",
      "2 2\n",
      "46 80 0 0\n",
      "3 2\n",
      "34 80 46 0\n"
     ]
    },
    {
     "data": {
      "image/png": "[encoded data removed]",
      "text/plain": [
       "<matplotlib.figure.Figure at 0x114515080>"
      ]
     },
     "metadata": {},
     "output_type": "display_data"
    }
   ],
   "source": [
    "%matplotlib inline\n",
    "import matplotlib.pyplot as plt\n",
    "import matplotlib.patches as patches\n",
    "\n",
    "fig1 = plt.figure()\n",
    "ax1 = fig1.add_subplot(111, aspect='equal')\n",
    "def graph_bsp(bsp):\n",
    "    print(bsp.width, bsp.height, bsp.x, bsp.y)\n",
    "    ax1.add_patch(\n",
    "        patches.Rectangle(\n",
    "            (bsp.x, bsp.y),\n",
    "            bsp.width,\n",
    "            bsp.height,\n",
    "            fill=False      # remove background\n",
    "        )\n",
    "    )\n",
    "    fig1.canvas.draw()\n",
    "base.traverse(graph_bsp)"
   ]
  },
  {
   "cell_type": "code",
   "execution_count": null,
   "metadata": {
    "collapsed": true
   },
   "outputs": [],
   "source": []
  }
 ],
 "metadata": {
  "kernelspec": {
   "display_name": "Python 3",
   "language": "python",
   "name": "python3"
  },
  "language_info": {
   "codemirror_mode": {
    "name": "ipython",
    "version": 3
   },
   "file_extension": ".py",
   "mimetype": "text/x-python",
   "name": "python",
   "nbconvert_exporter": "python",
   "pygments_lexer": "ipython3",
   "version": "3.5.1"
  }
 },
 "nbformat": 4,
 "nbformat_minor": 0
}
